{
 "cells": [
  {
   "cell_type": "markdown",
   "id": "2f28eada",
   "metadata": {},
   "source": [
    "# Assignment: Data Curation and Analysis\n",
    "\n",
    "## Due Date: 03/01/2023 11:59 PM\n",
    "\n",
    "The goal of this assignment is to construct, analyze, and publish a dataset on data.worldLinks to an external site. (you need to sign up at https://data.worldLinks to an external site. before starting). All analysis should be performed in a single Jupyter notebook and all data, documentation, and code should be published in a single GitHubLinks to an external site. repository.\n",
    "\n",
    "The purpose of the assignment is to demonstrate that you can follow best practices for open scientific research in designing and implementing your project, and make your project fully reproducible by others: from data collection to data analysis.\n",
    "\n",
    "## Step 0: Read about reproducibility\n",
    "\n",
    " Read the assigned chapters, Chapters 2 and 3, from The Practice of Reproducible Research (University of California Press, 2018).\n",
    "\n",
    "Kitzes, J., Turek, D., & Deniz, F. (Eds.). (2018). The practice of reproducible research: case studies and lessons from the data-intensive sciences. Univ of California Press Chapter 2: Assessing ReproducibilityLinks to an external site. and Chapter 3: The Basic Reproducible Workflow"
   ]
  },
  {
   "cell_type": "markdown",
   "id": "6c37efcb",
   "metadata": {},
   "source": [
    "## Step 1: Data extraction\n",
    "\n",
    "Your assignment is to create an informative graph, starting from scratch, and following best practices for reproducible research. You are allowed to collect data of your choice. For example, you could collect through one of the following means:\n",
    "\n",
    "Web-data using web-scraping APIs (similar to what we discussed in class)\n",
    "Twitter data using the Twitter API (e.g., https://python-twitter.readthedocs.io/en/latest/getting_started.htmlLinks to an external site.)\n",
    "Wikipedia data using the Wikipedia API (e.g., https://pypi.org/project/Wikipedia-API/Links to an external site.)\n",
    "Survey data with Google Forms or street interviews\n",
    " If you use an API/Libraries (e.g.., BeautifulSoup/TwitterAPI/WikipediaAPI) to collect data, please include what API you used and your code that makes API calls. If you choose not to use an API to collect data, note that each of the datasets should have at least 50 data points with at least 4 attributes each. If you are using API/Libraries, the expectation is that you collect data that has more than 200 data points with at least 4 attributes each. In any case, you are, of course, allowed to gather and merge data from different sources, but do cite all the sources and clearly mention your merging criteria."
   ]
  },
  {
   "cell_type": "code",
   "execution_count": 38,
   "id": "a8061dee",
   "metadata": {},
   "outputs": [
    {
     "name": "stdout",
     "output_type": "stream",
     "text": [
      "[\"\\n\\n\\n\\nRankCountry20222023 (Billions)2024202520262027\\n1United States25,035.16426,185.21027,057.20228,045.30529,165.53130,281.524\\n2China18,321.19719,243.97420,699.14822,404.01924,295.36826,437.719\\n3Japan4,300.6214,365.9764,568.7294,811.6405,009.9995,172.103\\n4Germany4,031.1494,120.2424,337.3854,546.5144,740.7234,925.000\\n5India3,468.5663,820.5734,170.2204,547.1644,947.3915,365.546\\n6United Kingdom3,198.4703,479.4683,757.4033,969.8874,217.7434,449.753\\n7France2,778.0902,806.6902,932.3633,057.2153,179.4633,299.722\\n8Canada2,200.3522,326.6202,420.6832,531.2432,630.3422,728.384\\n9Russia2,133.0922,136.2222,146.6962,159.1022,195.2082,235.806\\n10Brazil1,894.7082,059.4432,200.9162,319.4602,436.7072,568.056\\n11Iran1,973.7382,044.1522,135.7312,230.6192,329.9792,438.559\\n12Italy1,996.9341,991.0082,059.4102,133.0802,213.7162,289.808\\n13South Korea1,734.2071,792.4671,879.0431,961.8302,048.4762,137.201\\n14Australia1,724.7871,787.9481,837.6861,913.5231,994.1282,081.613\\n15Mexico1,424.5331,476.4071,527.0771,586.4371,650.3961,718.575\\n16Spain1,389.9271,421.0121,508.9021,592.9791,668.5021,738.435\\n17Indonesia1,289.4291,388.6831,506.9881,631.6361,762.1001,901.182\\n18Netherlands990.5831,019.7621,076.9551,125.4621,173.4781,223.357\\n19Saudi Arabia1,010.588996.3901,016.6901,044.2291,077.5901,116.113\\n20Turkey853.487941.5511,037.8581,133.9811,239.0771,354.314\\n21Taiwan828.659858.972901.616948.513996.8211,045.227\\n22Switzerland807.418834.596878.422914.533963.3641,003.347\\n23Poland716.305753.875811.193875.131924.773979.330\\n24Sweden603.922653.962693.150732.622769.870808.674\\n25Argentina630.698643.797642.696625.695633.282662.416\\n26Belgium589.491596.743619.313642.311666.456690.722\\n27Thailand534.758580.688597.570640.201672.959732.235\\n28Nigeria504.203574.271651.340737.970835.822945.341\\n29Israel527.179564.150591.327618.796647.424678.594\\n30Ireland519.776549.088594.177630.818670.652712.041\\n31United Arab Emirates503.913519.046538.187560.702587.019617.476\\n32Norway504.703486.374495.142502.849509.589522.617\\n33Bangladesh460.751484.756541.974603.748667.863738.569\\n34Austria468.046472.686494.052516.742540.286564.321\\n35Egypt469.094471.364510.851558.074608.773663.990\\n36Vietnam413.808469.620517.642569.146624.400682.853\\n37Malaysia434.059467.459503.110539.616577.156615.011\\n38Singapore423.632447.159470.114491.196513.495536.753\\n39Philippines401.662425.655456.876492.605531.141572.708\\n40South Africa411.480422.336438.571455.357472.606490.575\\n41Denmark386.724393.978412.973432.508452.560473.709\\n42Hong Kong368.373387.458406.741427.253449.383470.980\\n43Colombia342.919361.941380.374400.263421.988444.716\\n44Chile310.866347.570358.787375.109390.696407.865\\n45Czech Republic295.618314.718337.756360.228380.650400.728\\n46Romania299.885311.546337.212363.459388.934415.811\\n47Finland281.411283.507292.464303.574315.645328.216\\n48Iraq282.876273.921279.190286.266296.527309.721\\n49Portugal255.854261.173275.887290.500304.730319.410\\n50Peru239.333253.757266.827279.700293.198307.420\\n51New Zealand242.700253.584264.967278.002291.746306.929\\n52Kazakhstan224.338243.396254.352264.668275.066283.368\\n53Qatar221.369234.032232.815236.444246.153256.212\\n54Greece222.008226.347235.285244.784254.615262.825\\n55Hungary184.651195.631211.679226.277241.233256.710\\n56Algeria187.155190.254196.624205.435215.544224.042\\n57Kuwait183.568172.590172.008173.821177.288181.137\\n58Morocco142.874150.590158.721167.411176.308185.894\\n59Angola124.794135.558142.198149.076156.463164.414\\n60Ethiopia111.181126.186140.047156.811175.401192.093\\n61Puerto Rico118.677123.350124.277126.034128.454131.434\\n62Dominican Republic112.417122.324131.293140.335150.143160.813\\n63Slovak Republic112.418122.026131.897140.450148.934157.224\\n64Ecuador115.469120.292124.578128.795133.155137.663\\n65Kenya114.858117.559125.104134.241143.964153.410\\n66Oman108.969110.792110.447111.051112.917115.643\\n67Guatemala91.31895.596102.883110.238117.947126.140\\n68Belarus79.70491.98595.06098.046100.518103.598\\n69Uzbekistan79.11791.895106.989121.546136.376152.631\\n70Bulgaria85.00889.33395.202100.451106.257112.542\\n71Venezuela82.14586.704n/an/an/an/a\\n72Tanzania76.58284.93293.314101.547110.860121.313\\n73Luxembourg82.15484.03389.14393.88498.831104.098\\n74Turkmenistan74.43982.36589.56497.669106.555116.423\\n75Panama71.08576.38281.78587.17592.92099.043\\n76Croatia69.38073.49078.74083.84388.37092.762\\n77Uruguay71.16172.98674.84877.59379.63381.995\\n78Costa Rica68.48972.95876.09079.90684.16688.648\\n79Côte d'Ivoire68.63072.68979.16986.17493.406100.495\\n80Lithuania68.03172.62978.00483.23488.43793.396\\n81Azerbaijan70.06671.21275.03379.02582.99987.282\\n82Democratic Republic of the Congo63.90970.35477.16584.53192.487100.813\\n83Ghana75.99670.08673.00076.96681.75487.570\\n84Serbia62.72168.67975.63382.86989.97897.487\\n85Slovenia62.19165.20270.04374.71579.45184.244\\n86Myanmar59.53063.56167.16970.87774.90079.405\\n87Uganda48.35252.39757.69162.82469.29475.406\\n88Jordan48.06650.83753.66756.81960.15863.693\\n89Tunisia46.28246.02348.10250.60253.14055.687\\n90Cameroon44.21246.01749.69053.58257.71862.158\\n91Bolivia43.43145.98949.02652.16155.39058.762\\n92Bahrain43.54445.03246.74348.67350.82553.142\\n93Paraguay41.85544.62347.01750.18152.99956.118\\n94Sudan42.76244.51447.86052.13656.58361.104\\n95Libya40.83643.75045.62047.73249.11450.540\\n96Latvia40.58842.92545.71948.58551.73755.100\\n97Nepal39.02842.12846.41050.64454.95259.669\\n98Estonia39.05441.53344.34147.41050.54953.557\\n99Macao SAR23.42039.43653.21360.85265.63169.214\\n100Zimbabwe38.28037.30338.70838.79438.67840.397\\n101El Salvador31.98933.41834.48435.60636.76137.898\\n102Papua New Guinea31.36233.34334.74236.30638.50740.929\\n103Honduras30.56832.25933.59835.43037.63339.928\\n104Cambodia28.33030.70833.32236.11539.18842.509\\n105Senegal27.54229.77333.71336.25239.06842.128\\n106Iceland27.70229.62332.16934.39036.89839.546\\n107Trinidad and Tobago29.33729.33729.61830.63831.40932.233\\n108Zambia27.02528.79830.96633.31335.94538.801\\n109Yemen27.59428.09930.15432.95336.56140.901\\n110Cyprus26.70527.59228.82230.51032.36534.431\\n111Georgia25.17226.94729.56432.34735.32338.503\\n112Bosnia and Herzegovina23.68124.53126.25327.83129.52531.273\\n113Haiti20.18221.91022.66223.43824.26625.040\\n114Guinea19.74521.73823.30124.92926.55128.436\\n115Gabon22.22121.54522.18623.06324.14325.381\\n116Mozambique17.87319.62321.76123.22526.83530.805\\n117Armenia17.69319.46020.98722.90124.53326.316\\n118West Bank and Gaza18.81819.39820.18620.92521.63722.522\\n119Mali18.43419.38820.99522.40824.23925.960\\n120Burkina Faso18.26818.94620.38221.99623.77925.530\\n121Albania18.25618.84219.85821.21922.52823.889\\n122Botswana18.00518.66820.08421.48423.19925.058\\n123Benin17.54718.24719.63921.45923.46125.642\\n124Brunei Darussalam18.46417.93718.08018.36618.70519.313\\n125Malta17.15617.73818.68519.81721.01822.275\\n126Nicaragua15.69516.96217.90018.92719.93520.996\\n127Guyana14.83916.80418.99922.92627.70428.421\\n128Mongolia15.72016.59618.55120.37822.13923.821\\n129Jamaica16.10416.43616.97317.87518.61019.336\\n130Madagascar15.10616.06317.18318.57820.06321.808\\n131Equatorial Guinea16.87715.57613.72513.79213.74314.136\\n132Niger14.63915.52417.86119.82821.57723.485\\n133Lao P.D.R.16.25015.04214.84515.28116.20517.210\\n134North Macedonia14.10115.02416.13017.28118.51119.790\\n135Republic of Congo14.48614.33815.12715.32915.58916.355\\n136Moldova14.04814.33315.02216.24917.48918.781\\n137The Bahamas12.69313.75214.52915.13615.70416.274\\n138Chad12.94513.52314.22815.01615.90116.832\\n139Namibia12.48813.35914.08414.77615.45116.170\\n140Rwanda12.09813.11613.99815.14916.18817.516\\n141Mauritius11.49712.40413.47214.40115.20915.913\\n142Malawi11.55410.96811.27611.67712.26012.997\\n143Kyrgyz Republic9.75010.88011.61012.38613.19713.955\\n144Tajikistan9.98310.50911.31211.81912.56013.513\\n145Mauritania10.09110.48111.95212.60312.90713.260\\n146Kosovo9.2429.81510.51611.24211.94512.622\\n147Somalia8.4169.0119.80810.69011.63712.664\\n148Togo8.3598.9869.80210.71311.71812.729\\n149South Sudan4.7848.54910.87211.88912.46913.197\\n150Montenegro6.1276.6747.2117.6428.0858.547\\n151Maldives5.9006.5337.0987.6458.2298.860\\n152Barbados5.7886.2776.6707.0347.3547.636\\n153Fiji4.8595.3686.0226.4596.8707.258\\n154Eswatini4.6694.8735.1535.4025.6575.925\\n155Liberia3.9004.1784.2314.4824.8105.207\\n156Sierra Leone4.1013.9994.1944.4424.6624.900\\n157Burundi3.6863.9954.3514.7415.1135.497\\n158Djibouti3.7253.9844.3484.7235.1315.576\\n159Aruba3.4993.6763.8333.9964.1664.328\\n160Andorra3.3023.3603.5173.6803.8353.985\\n161Suriname3.0113.1453.2663.4033.5673.768\\n162Bhutan2.7072.9583.2443.5543.8684.196\\n163Belize2.6762.8582.9803.1013.2273.358\\n164Central African Republic2.4882.6392.8263.0293.2433.466\\n165Eritrea2.3692.6082.8163.0573.3313.636\\n166Lesotho2.5072.5832.7002.8332.9313.010\\n167The Gambia2.1722.3332.5162.7142.9003.106\\n168St. Lucia1.9722.1532.2942.3992.5002.600\\n169Cabo Verde2.0532.1402.3152.5072.7042.900\\n170Seychelles2.0052.1282.2802.4482.6112.743\\n171Timor-Leste2.4552.0852.1902.3322.4842.661\\n172Antigua and Barbuda1.6921.8672.0142.1372.2392.345\\n173Solomon Islands1.6011.7021.8121.9352.0662.201\\n174Guinea-Bissau1.6241.6921.8331.9922.1642.336\\n175San Marino1.6231.6211.6781.7421.8061.873\\n176Comoros1.2421.2901.3611.4541.5581.669\\n177Grenada1.1921.2761.3511.4261.5031.580\\n178St. Kitts and Nevis1.1151.2011.2801.3381.4021.469\\n179St. Vincent and the Grenadines0.9481.0471.1191.1811.2371.296\\n180Vanuatu0.9841.0401.1081.1871.2611.338\\n181Samoa0.8300.8350.8860.9320.9761.018\\n182Dominica0.5990.6580.7020.7460.7790.815\\n183Tonga0.5010.5360.5660.5920.6140.634\\n184São Tomé and Príncipe0.5060.5340.5720.6170.6740.734\\n185Micronesia0.4280.4530.4750.4890.5030.516\\n186Marshall Islands0.2710.2860.2980.3100.3210.332\\n187Palau0.2260.2720.3090.3300.3460.360\\n188Kiribati0.2070.2180.2290.2390.2490.259\\n189Nauru0.1340.1380.1420.1440.1460.149\\n190Tuvalu0.0640.0680.0730.0780.0840.089\\nAfghanistann/an/an/an/an/an/a\\nLebanonn/an/an/an/an/an/a\\nPakistan376.493n/an/an/an/an/a\\nSri Lanka73.739n/an/an/an/an/a\\nSyrian/an/an/an/an/an/a\\nUkrainen/an/an/an/an/an/a\\n\"]\n"
     ]
    }
   ],
   "source": [
    "import pandas\n",
    "import sys\n",
    "from bs4 import BeautifulSoup\n",
    "import requests\n",
    "opened_webpage = requests.get(\"https://www.populationu.com/gen/countries-by-gdp\")\n",
    "bs = BeautifulSoup(opened_webpage.content, \"html.parser\")\n",
    "raw_data = []\n",
    "\n",
    "table = bs.find_all(\"table\")\n",
    "url = 'https://www.populationu.com/gen/countries-by-gdp'\n",
    "headers = {'User-Agent': 'Mozilla/5.0 (Windows NT 10.0; Win64; x64) AppleWebKit/537.36 (KHTML, like Gecko) Chrome/58.0.3029.110 Safari/537.36'}\n",
    "r = requests.get(url, headers=headers)\n",
    "soup = BeautifulSoup(r.content, 'html.parser')\n",
    "tables = soup.find_all('table')\n",
    "data = []\n",
    "\n",
    "for row in table:\n",
    "    line = row.text\n",
    "    raw_data.append(line)\n",
    "\n",
    "print(raw_data)"
   ]
  },
  {
   "cell_type": "markdown",
   "id": "32af5321",
   "metadata": {},
   "source": [
    "In this step I derived the raw data from the webpage in two forms. One form I used the class method and derived it, and another form I used headers to retrieve the data."
   ]
  },
  {
   "cell_type": "markdown",
   "id": "2bf3bf7b",
   "metadata": {},
   "source": [
    "## Step 2: Data transformation and load\n",
    "\n",
    "Almost always when working with real-world data, we need to process the data to prepare it for analysis. For example, we may wish to convert times or dates, group certain sets of answers together, normalize columns (e.g., convert strings into floats), or any number of other operations. API responses may come in JSON format. Perform what processing steps you see fit to the raw data, ensuring that you keep a copy of the raw data, and save the processed data to a CSV file. This processed data will be the file that you share on data.world."
   ]
  },
  {
   "cell_type": "code",
   "execution_count": 41,
   "id": "acb5c1e1",
   "metadata": {},
   "outputs": [
    {
     "name": "stdout",
     "output_type": "stream",
     "text": [
      "   Rank        Country        2022 2023 (Billions)        2024        2025  \\\n",
      "0  None           None        None            None        None        None   \n",
      "1     1  United States  25,035.164      26,185.210  27,057.202  28,045.305   \n",
      "2     2          China  18,321.197      19,243.974  20,699.148  22,404.019   \n",
      "3     3          Japan   4,300.621       4,365.976   4,568.729   4,811.640   \n",
      "4     4        Germany   4,031.149       4,120.242   4,337.385   4,546.514   \n",
      "\n",
      "         2026        2027  \n",
      "0        None        None  \n",
      "1  29,165.531  30,281.524  \n",
      "2  24,295.368  26,437.719  \n",
      "3   5,009.999   5,172.103  \n",
      "4   4,740.723   4,925.000  \n"
     ]
    }
   ],
   "source": [
    "for table in tables:\n",
    "    for row in table.find_all('tr'):\n",
    "        cols = [col.text.strip() for col in row.find_all('td')]\n",
    "        data.append(cols)\n",
    "\n",
    "df = pd.DataFrame(data, columns=['Rank', 'Country', '2022', '2023 (Billions)', '2024', '2025', '2026', '2027'])\n",
    "df = df.replace('n/a', float('nan'))\n",
    "df.to_csv('Assignment_7_Data_Curation_and_Analysis.csv', index=False)\n",
    "print(df.head())\n",
    "\n",
    "df['2022'] = df['2022'].str.replace(',', '')\n",
    "df['2023 (Billions)'] = df['2023 (Billions)'].str.replace(',', '')\n",
    "df['2024'] = df['2024'].str.replace(',', '')\n",
    "df['2025'] = df['2025'].str.replace(',', '')\n",
    "df['2026'] = df['2026'].str.replace(',', '')\n",
    "df['2027'] = df['2027'].str.replace(',', '')\n",
    "\n"
   ]
  },
  {
   "cell_type": "markdown",
   "id": "fe1bdb1c",
   "metadata": {},
   "source": [
    "In this step I turned the data into a dataframe and removed the comma from the GDP values to convert it to a float for visualization purposes. I also converted all the n/a to nans."
   ]
  },
  {
   "cell_type": "markdown",
   "id": "b66310ee",
   "metadata": {},
   "source": [
    "## Step 3: Analysis: Summary and visualizations\n",
    "\n",
    "For this assignment, the analysis requested is fairly minimal. We would like to visualize some element of the data collected. This could be a trend over time or a point-in-time comparison. To aid you in choosing what to plot on your graph, consider: what surprised you about your data? What do you think is most important about your data?\n",
    "\n",
    "Obtain basic descriptive statistics, plot your data using suitable visualization graphs and charts. Make sure that your graphs have descriptive titles; labels for any axes, including units; and legends, wherever needed. All plots should be shown in the Jupyter notebook."
   ]
  },
  {
   "cell_type": "code",
   "execution_count": 42,
   "id": "448ec3a3",
   "metadata": {},
   "outputs": [
    {
     "name": "stderr",
     "output_type": "stream",
     "text": [
      "No artists with labels found to put in legend.  Note that artists whose label start with an underscore are ignored when legend() is called with no argument.\n"
     ]
    },
    {
     "data": {
      "image/png": "[encoded data removed]",
      "text/plain": [
       "<Figure size 432x288 with 1 Axes>"
      ]
     },
     "metadata": {
      "needs_background": "light"
     },
     "output_type": "display_data"
    }
   ],
   "source": [
    "import matplotlib.pyplot as plt\n",
    "\n",
    "\n",
    "x_labels = list(map(str, df.columns))\n",
    "\n",
    "df = df.fillna(0)\n",
    "\n",
    "plt.plot(x_labels, df.iloc[2])\n",
    "plt.title('GDP values over time')\n",
    "plt.xlabel('Year')\n",
    "plt.ylabel('GDP (in billions of dollars)')\n",
    "plt.legend()\n",
    "plt.show()\n",
    "\n",
    "\n"
   ]
  },
  {
   "cell_type": "markdown",
   "id": "bdffede1",
   "metadata": {},
   "source": [
    "In this step I converted column names to strings, replaced NaN values with zeros, and plotted a graph showing GDP overtime."
   ]
  },
  {
   "cell_type": "markdown",
   "id": "06bacea0",
   "metadata": {},
   "source": [
    "## Step 4: Documentation\n",
    "\n",
    "We will follow best practices for documentation as described in the readings on reproducibility. You need to have documentation in three places: your Jupyter notebook, your README file on GitHub, and with your dataset on data.world.\n",
    "\n",
    "Your Jupyter notebook should include:\n",
    "\n",
    "Clear descriptions of each collection and processing step in Markdown sentences, not code comments\n",
    "Your README should include:\n",
    "\n",
    "The goal of your project\n",
    "Links to any relevant API documentation\n",
    "The license of your data and any source data\n",
    "A data type and description for each attribute in your data\n",
    "Any known issues or potential issues, such as sources of bias in collection\n",
    "Your dataset at data.world should be accompanied by:\n",
    "\n",
    "A project summary that explains your collection, processing and analysis methods as a high level, as well as links to your GitHub repo\n",
    "A data dictionary with a data type and description for each attribute in your data"
   ]
  },
  {
   "cell_type": "markdown",
   "id": "01847d0a",
   "metadata": {},
   "source": [
    "## Step 5: Publication and Submission\n",
    "\n",
    "Submit your processed data as a CSV file on data.world. Add a brief project description, your project summary, and your data dictionary.\n",
    "\n",
    " Create a public GitHub repository for your analysis. Upload your code and data. Add a README and a LICENSE for the repo. The README should include all of your documentation about the data (such as its provenance, any quirks in your data, potential biases, etc.) and the analysis (what you are showing, and why). The LICENSE should be an MIT LicenseLinks to an external site. for your code.\n",
    "\n",
    " On Canvas, submit links to your GitHub repo and data.world dataset, as well as the image file of your final visualization.\n",
    "\n",
    "Tip: someone who stumbles across your GitHub repo should be able to fully reproduce your analysis. In that event, what information would that person want or need? Make sure you include it!"
   ]
  }
 ],
 "metadata": {
  "kernelspec": {
   "display_name": "Python 3 (ipykernel)",
   "language": "python",
   "name": "python3"
  },
  "language_info": {
   "codemirror_mode": {
    "name": "ipython",
    "version": 3
   },
   "file_extension": ".py",
   "mimetype": "text/x-python",
   "name": "python",
   "nbconvert_exporter": "python",
   "pygments_lexer": "ipython3",
   "version": "3.9.12"
  }
 },
 "nbformat": 4,
 "nbformat_minor": 5
}
